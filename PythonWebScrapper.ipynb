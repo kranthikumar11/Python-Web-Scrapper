{
 "cells": [
  {
   "cell_type": "raw",
   "metadata": {},
   "source": [
    "pip install beautifulsoup4\n",
    "pip install matplotlib\n",
    "pip install requests\n",
    "pip install pandas\n",
    "pip install regex"
   ]
  },
  {
   "cell_type": "code",
   "execution_count": 1,
   "metadata": {},
   "outputs": [],
   "source": [
    "from bs4 import BeautifulSoup as bs\n",
    "import requests as req\n",
    "import pandas as pd\n",
    "import numpy as np\n",
    "import matplotlib.pyplot as plt\n",
    "import re\n",
    "from time import sleep\n",
    "from random import randint"
   ]
  },
  {
   "cell_type": "code",
   "execution_count": 2,
   "metadata": {},
   "outputs": [],
   "source": [
    "def rm_special_characters(string): \n",
    "\n",
    "    new_string = re.sub(r\"[^a-zA-Z0-9]\", \"\", string)\n",
    "\n",
    "    return new_string"
   ]
  },
  {
   "cell_type": "code",
   "execution_count": 3,
   "metadata": {},
   "outputs": [],
   "source": [
    "def extractor(url):\n",
    "    data=[]\n",
    "    print(\"Extracting data..........\")\n",
    "    NoneType = type(None)\n",
    "    for pgno in range(1,6):\n",
    "        html_text=req.get(url+str(pgno)).text\n",
    "        sleep(randint(5,15))\n",
    "        soup = bs(html_text,\"html.parser\")\n",
    "        container=soup.find(\"div\",class_=\"_1YokD2 _3Mn1Gg\")\n",
    "        cards=container.find_all(\"div\",class_=\"_1AtVbE col-12-12\")\n",
    "        for card in cards:\n",
    "            keys=card.find_all(\"div\",class_=\"_4ddWXP\")\n",
    "            for key in keys:\n",
    "                title= key.find(\"a\",class_=\"s1Q9rs\").text\n",
    "                price=key.find(\"div\",class_=\"_30jeq3\").text\n",
    "                newPrice =  rm_special_characters(price)\n",
    "                rating=key.find(\"div\",class_=\"_3LWZlK\")\n",
    "                if(type(rating)==NoneType):\n",
    "                    rating=\"0\"\n",
    "                else:\n",
    "                    rating=rating.text\n",
    "                l=[title,int(newPrice),float(rating)]\n",
    "                data.append(l)\n",
    "    return data"
   ]
  },
  {
   "cell_type": "code",
   "execution_count": 4,
   "metadata": {},
   "outputs": [],
   "source": [
    "def analyser(data):\n",
    "    print(\"Extracting data done.\")\n",
    "    print(\"Analysing data..........\")\n",
    "    df = pd.DataFrame(data, columns = [\"Title\", \"Price (₹)\",\"Rating\"])\n",
    "    df[\"Rating\"]=df[\"Rating\"].replace(to_replace=0.0, method='ffill')\n",
    "    minPriceKey=df[\"Title\"][df[\"Price (₹)\"].idxmin()]\n",
    "    maxPriceKey=df[\"Title\"][df[\"Price (₹)\"].idxmax()]\n",
    "    minRatingKey=df[\"Title\"][df[\"Rating\"].idxmin()]\n",
    "    maxRatingKey=df[\"Title\"][df[\"Rating\"].idxmax()]\n",
    "    print(\"Analysing data done.\")\n",
    "    print(f'''\n",
    "    Here is my Analysis:\n",
    "\n",
    "    Item with the Highest Price is: {maxPriceKey}\n",
    "\n",
    "    Item with the Highest Rating is: {maxRatingKey}\n",
    "    \n",
    "    Item with Lowest Price is: {minPriceKey}\n",
    "    \n",
    "    Item with lowest Rating is: {minRatingKey}\n",
    "    ''')\n",
    "    \n",
    "    xpoints = np.array(df[\"Price (₹)\"])\n",
    "    ypoints = np.array(df[\"Rating\"])\n",
    "    plt.title(\"Price vs Rating\")\n",
    "    plt.xlabel(\"Price\")\n",
    "    plt.ylabel(\"Rating\")\n",
    "    plt.scatter(xpoints, ypoints)\n",
    "    plt.show()"
   ]
  },
  {
   "cell_type": "code",
   "execution_count": 5,
   "metadata": {},
   "outputs": [
    {
     "name": "stdout",
     "output_type": "stream",
     "text": [
      "\n",
      "    Enter number to search\n",
      "    1 for Python Books,\n",
      "    2 for toys,\n",
      "    3 for computers\n",
      "3\n",
      "Extracting data..........\n",
      "Extracting data done.\n",
      "Analysing data..........\n",
      "Analysing data done.\n",
      "\n",
      "    Here is my Analysis:\n",
      "\n",
      "    Item with the Highest Price is: APPLE iMac Core i7 (10th Gen) (8 GB DDR4/512 GB SSD/Mac...\n",
      "\n",
      "    Item with the Highest Rating is: APPLE iMac Core i7 (10th Gen) (8 GB DDR4/512 GB SSD/Mac...\n",
      "    \n",
      "    Item with Lowest Price is: Artek Mini Android 7.1,Smart TV Box with Amlogic S905W ...\n",
      "    \n",
      "    Item with lowest Rating is: ENTWINO Core i7 2600 (8 RAM/Nvidia Graphics Card Graphi...\n",
      "    \n"
     ]
    },
    {
     "data": {
      "image/png": "[encoded data removed]",
      "text/plain": [
       "<Figure size 432x288 with 1 Axes>"
      ]
     },
     "metadata": {
      "needs_background": "light"
     },
     "output_type": "display_data"
    }
   ],
   "source": [
    "def main():\n",
    "    key_words=[\"https://www.flipkart.com/search?q=python+books&otracker=search&otracker1=search&marketplace=FLIPKART&as-show=on&as=off&page=\",\n",
    "               \"https://www.flipkart.com/search?q=toys&otracker=search&otracker1=search&marketplace=FLIPKART&as-show=on&as=off&page=\", \n",
    "               \"https://www.flipkart.com/search?q=computers&otracker=search&otracker1=search&marketplace=FLIPKART&as-show=on&as=off&page=\"]\n",
    "    try:\n",
    "        key=int(input(f'''\n",
    "    Enter number to search\n",
    "    1 for Python Books,\n",
    "    2 for toys,\n",
    "    3 for computers\\n'''))\n",
    "        data=extractor(key_words[key-1])\n",
    "        analyser(data)\n",
    "    except:\n",
    "        print(\"Invalid\")\n",
    "\n",
    "if __name__ == \"__main__\":\n",
    "    main()"
   ]
  },
  {
   "cell_type": "code",
   "execution_count": null,
   "metadata": {},
   "outputs": [],
   "source": []
  }
 ],
 "metadata": {
  "kernelspec": {
   "display_name": "Python [conda env:WebScraping]",
   "language": "python",
   "name": "conda-env-WebScraping-py"
  },
  "language_info": {
   "codemirror_mode": {
    "name": "ipython",
    "version": 3
   },
   "file_extension": ".py",
   "mimetype": "text/x-python",
   "name": "python",
   "nbconvert_exporter": "python",
   "pygments_lexer": "ipython3",
   "version": "3.6.13"
  }
 },
 "nbformat": 4,
 "nbformat_minor": 4
}
